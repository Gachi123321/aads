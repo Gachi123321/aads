{
 "cells": [
  {
   "cell_type": "markdown",
   "id": "884c9866-0c47-47f1-b9fe-0593bb455cf0",
   "metadata": {},
   "source": [
    "<h1>Эмпирический анализ временной сложности алгоритмов.</h1>"
   ]
  },
  {
   "cell_type": "markdown",
   "id": "befb4e65-f485-47c3-93ec-30f31287864b",
   "metadata": {},
   "source": [
    "<h2> Вариант 4 </h2>"
   ]
  },
  {
   "cell_type": "markdown",
   "id": "d6f7be27-97eb-444a-87e7-8baa5c539a9b",
   "metadata": {},
   "source": [
    "# Задание 1. "
   ]
  },
  {
   "cell_type": "markdown",
   "id": "037d1d05-577e-4b97-9a6b-5d36df3d59a9",
   "metadata": {},
   "source": [
    "| Функция | Оценивание | Функция |\n",
    "|----------|----------|----------|\n",
    "| Постоянная функция   | 2 балла   | $f_1(v) = N$    |\n",
    "| Вычисление полинома методом Горнера    | 2 балла   | $f_4(v) = v_1 + x (v_2 + x(v_3+ \\ldots))$   |\n",
    "| Поиск максимума простым перебором    | 2 балла   | $f_5(v) = \\max(v)$   |\n",
    "| Среднее арифметическое | 2 балла | $f_7(v) = \\cfrac{1}{n} \\cdot \\sum\\limits_{k=1}^{n} {v_k}$ |\n"
   ]
  },
  {
   "cell_type": "markdown",
   "id": "b7cfaff4-8025-4ce6-b170-b1f496756092",
   "metadata": {},
   "source": [
    "![](./img/constimg.png)\n",
    "*Рис. 1: Постоянная функция* "
   ]
  },
  {
   "cell_type": "code",
   "execution_count": 7,
   "id": "15e86216-61ac-4732-8eb2-d437c83cb0fb",
   "metadata": {},
   "outputs": [],
   "source": [
    "def const_func(rand_vec):\n",
    "    return rand_vec"
   ]
  },
  {
   "cell_type": "markdown",
   "id": "44a8f1ab-25d1-4d6a-b326-2ffaad201634",
   "metadata": {},
   "source": [
    "![](./img/horner.png)\n",
    "*Рис. 2: Вычисление полинома методом Горнера [2]* "
   ]
  },
  {
   "cell_type": "code",
   "execution_count": 8,
   "id": "d9e23bb2-c757-430f-a6c8-beee190dc930",
   "metadata": {},
   "outputs": [],
   "source": [
    "def gorner_estimate(rand_vec):\n",
    "    N_ = 16\n",
    "    x = 1.5 * N_\n",
    "    polynome = 0\n",
    "    for vec_elem in rand_vec[::-1]:\n",
    "        polynome = vec_elem + x * polynome"
   ]
  },
  {
   "cell_type": "markdown",
   "id": "40049c7f-00de-48af-9065-72a1249222c5",
   "metadata": {},
   "source": [
    "![](./img/simplesearch.png)\n",
    "*Рис. 3: Поиск максимума простым перебором* "
   ]
  },
  {
   "cell_type": "code",
   "execution_count": 9,
   "id": "b1a1b7c3-3361-4315-94e0-9520d3ed2670",
   "metadata": {},
   "outputs": [],
   "source": [
    "def simple_max_search(rand_vec):\n",
    "    max = 0\n",
    "    for vec_elem in rand_vec:\n",
    "        if max < vec_elem:\n",
    "            max = vec_elem"
   ]
  },
  {
   "cell_type": "markdown",
   "id": "88c93c1f-87eb-44db-9ae3-ca87c057e62e",
   "metadata": {},
   "source": [
    "![](./img/sumfunc.png)\n",
    "*Рис. 4: Среднее арифметическое* "
   ]
  },
  {
   "cell_type": "code",
   "execution_count": 10,
   "id": "ea1a6b6a-4e85-471a-9835-0bed1be4c1e7",
   "metadata": {},
   "outputs": [],
   "source": [
    "def sum_func(rand_vec):\n",
    "    tries_ = 5\n",
    "    sum_ = 0\n",
    "    for i in rand_vec:\n",
    "        sum_ += i\n",
    "   # print(sum_/len(rand_vec))"
   ]
  },
  {
   "cell_type": "markdown",
   "id": "4de13538-5131-42d9-a16d-97a09cbfde9f",
   "metadata": {},
   "source": [
    "![](./img/matrixmult.png)\n",
    "*Рис. 5: Умножение матриц* "
   ]
  },
  {
   "cell_type": "code",
   "execution_count": 11,
   "id": "dda93e53-de31-4f86-afa2-64491d1200c7",
   "metadata": {},
   "outputs": [],
   "source": [
    "def matrix_multiplication(matrix_a,matrix_b):\n",
    "    return np.dot(matrix_a,matrix_b)"
   ]
  }
 ],
 "metadata": {
  "kernelspec": {
   "display_name": "Python 3 (ipykernel)",
   "language": "python",
   "name": "python3"
  },
  "language_info": {
   "codemirror_mode": {
    "name": "ipython",
    "version": 3
   },
   "file_extension": ".py",
   "mimetype": "text/x-python",
   "name": "python",
   "nbconvert_exporter": "python",
   "pygments_lexer": "ipython3",
   "version": "3.9.6"
  }
 },
 "nbformat": 4,
 "nbformat_minor": 5
}
