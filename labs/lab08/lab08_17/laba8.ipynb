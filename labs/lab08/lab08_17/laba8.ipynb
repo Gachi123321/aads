{
 "cells": [
  {
   "cell_type": "markdown",
   "id": "0bfb3a86-4eca-4f13-abc8-c74bd5629524",
   "metadata": {},
   "source": [
    "<h1> ОТЧЕТ </h1>\n",
    "<h3> Лабораторная работа №8 <br> <br>\n",
    "    «Алгоритмы на графах» </h3>\n",
    "<br>\n",
    "<h4> Цель работы: </h4>\n",
    "Изучение основных алгоритмов на графах.\n",
    "<br>\n",
    "<br>\n",
    "<h4> Постановка задачи: </h4>\n",
    "\n",
    "1. Реализовать программу, выполняющую описанный набор операций на графах:<br>\n",
    "Требования:\n",
    " - граф должен быть реализован в виде класса;\n",
    " - каждая операция должна быть реализована как метод класса.\n",
    "   \n",
    "2. Реализовать приложение, для работы с графом, которое реализует следующий набор действий:\n",
    "   - инициализация графа;\n",
    "   - организация диалогового цикла с пользователем;\n",
    "3. Реализовать индивидуальные задание.\n",
    "<br>\n",
    "<br>\n",
    "<h4> Code Listing: </h4>\n",
    "\n",
    "```python\n",
    "\n",
    "```\n",
    "<br>\n",
    "<h4> Выводы </h4>\n",
    "В ходе лабораторной работы была реализована программа, выполняющая стандартный набор операций на графах и организован диалоговый цикл с пользователем.\n",
    "<br>\n",
    "<br>\n",
    "<h4> Ответы на контрольные вопросы </h4>\n",
    "\n",
    "1. *Что такое граф? Что такое ребро и дуга графа?* <br>\n",
    "Граф - это математическая абстракция, которая состоит из множества вершин и множества ребер, соединяющих эти вершины. Ребро - это связь между двумя вершинами, а дуга - направленное ребро, указывающее на направление от одной вершины к другой.\n",
    "2. *Что такое ориентированный граф и неориентированный граф?* <br>\n",
    "Ориентированный граф - это граф, в котором каждое ребро имеет определенное направление, в то время как неориентированный граф не имеет направления на своих ребрах.\n",
    "3. *Какие вершины называют смежными? Какие ребра называют смежными? Что означает слово инцидентные?* <br>\n",
    "Вершины называют смежными, если они соединены ребром. Ребра называют смежными, если они имеют общую вершину. Слово \"инцидентные\" означает, что вершина инцидентна ребру.\n",
    "4. *Что такое вес вершины, вес ребра?* <br>\n",
    "Вес вершины или ребра - это дополнительная информация, связанная с вершиной или ребром, которая может использоваться в различных алгоритмах обработки графов, например, в алгоритмах поиска кратчайшего пути.\n",
    "5. *Какие способы представления графов существуют?* <br>\n",
    "Графы могут быть представлены с помощью матриц смежности, матриц инцидентности, списка смежности или списка ребер.\n",
    "6. *В чем разница между алгоритмами поиска в ширину и поиска в глубину?* <br>\n",
    "Алгоритм поиска в ширину начинает с одной вершины и поочередно обходит все смежные с ней вершины, прежде чем переходить к следующей вершине. В то время как алгоритм поиска в глубину идет как можно глубже, прежде чем вернуться и перейти к следующей ветви.\n",
    "7. *Описать алгоритм нахождения кратчайшего пути.* <br>\n",
    "Алгоритм нахождения кратчайшего пути, например, алгоритм Дейкстры или алгоритм Флойда-Уоршалла, используется для нахождения минимального пути от одной вершины к другой во взвешенном графе.\n",
    "8. *Описать алгоритмы нахождения эйлерова и гамильтонова цикла.* <br>\n",
    "Эйлеров цикл проходит через каждое ребро ровно один раз, в то время как гамильтонов цикл проходит через каждую вершину ровно один раз. Алгоритмы для их нахождения различаются и могут быть реализованы с использованием различных подходов, таких как эйлеров обход или алгоритмы поиска гамильтонова цикла."
   ]
  },
  {
   "cell_type": "code",
   "execution_count": 9,
   "id": "dcddf57a-f8c9-431b-aeb8-7ed4153e7743",
   "metadata": {},
   "outputs": [
    {
     "name": "stdin",
     "output_type": "stream",
     "text": [
      "Добро пожаловать!\n",
      "Если вы хотите работать с ориентированным графом: введите Directed, если же с неориентированным: введите Undirected\n",
      " directed\n"
     ]
    },
    {
     "name": "stdout",
     "output_type": "stream",
     "text": [
      "Вы создали ориентированный граф\n"
     ]
    },
    {
     "name": "stdin",
     "output_type": "stream",
     "text": [
      "Добро пожаловать!\n",
      "Если вы хотите вывести набор команд: введите Menu\n",
      "Если вы хотите посмотреть граф: введите Show\n",
      "Если вы хотите проверить пустой ли граф: введите Is Empty\n",
      "Если вы хотите добавить вершину в граф: введите Add Vertex\n",
      "Если вы хотите добавить ребро в граф: введите Add Edge\n",
      "Если вы хотите удалить вершину из графа: введите Remove Vertex\n",
      "Если вы хотите удалить ребро из графа: введите Remove Edge\n",
      "Если вы хотите очистить граф: введите Clear\n",
      "Если вы хотите закончить: введите Stop\n",
      " add vertex\n",
      "Если вы хотите добавить несколько вершин: введите Fill, если же одну: введите Add\n",
      " fill\n",
      "Введите количество вершин которое хотите добавить:  10\n"
     ]
    },
    {
     "name": "stdout",
     "output_type": "stream",
     "text": [
      "Если вдруг вы устанете заполнять граф и захотите прервать процесс: введите ~I'm LoSeR~\n"
     ]
    },
    {
     "name": "stdin",
     "output_type": "stream",
     "text": [
      "Введите вершину:  1\n",
      "Введите вершину:  2\n",
      "Введите вершину:  3\n",
      "Введите вершину:  4\n",
      "Введите вершину:  5\n",
      "Введите вершину:  6\n",
      "Введите вершину:  7\n",
      "Введите вершину:  8\n",
      "Введите вершину:  9\n",
      "Введите вершину:  9\n"
     ]
    },
    {
     "name": "stdout",
     "output_type": "stream",
     "text": [
      "YOU LOSER\n",
      "Такой элемент уже есть в графе\n"
     ]
    },
    {
     "name": "stdin",
     "output_type": "stream",
     "text": [
      "Введите еще команду:  show\n"
     ]
    },
    {
     "name": "stdout",
     "output_type": "stream",
     "text": [
      "1: \n",
      "2: \n",
      "3: \n",
      "4: \n",
      "5: \n",
      "6: \n",
      "7: \n",
      "8: \n",
      "9: \n",
      "\n"
     ]
    },
    {
     "name": "stdin",
     "output_type": "stream",
     "text": [
      "Введите еще команду:  add edge\n",
      "Введите вершину, из которой должно выходить ребро:  1\n",
      "Введите вершину, в которую должно входить ребро:  2\n",
      "Введите еще команду:  add edge\n",
      "Введите вершину, из которой должно выходить ребро:  9\n",
      "Введите вершину, в которую должно входить ребро:  2\n",
      "Введите еще команду:  add edge\n",
      "Введите вершину, из которой должно выходить ребро:  4\n",
      "Введите вершину, в которую должно входить ребро:  3\n",
      "Введите еще команду:  add edge\n",
      "Введите вершину, из которой должно выходить ребро:  4\n",
      "Введите вершину, в которую должно входить ребро:  5\n",
      "Введите еще команду:  show\n"
     ]
    },
    {
     "name": "stdout",
     "output_type": "stream",
     "text": [
      "1: 2\n",
      "2: \n",
      "3: \n",
      "4: 3, 5\n",
      "5: \n",
      "6: \n",
      "7: \n",
      "8: \n",
      "9: 2\n",
      "\n"
     ]
    },
    {
     "name": "stdin",
     "output_type": "stream",
     "text": [
      "Введите еще команду:  add edge\n",
      "Введите вершину, из которой должно выходить ребро:  5\n",
      "Введите вершину, в которую должно входить ребро:  6\n",
      "Введите еще команду:  add edge\n",
      "Введите вершину, из которой должно выходить ребро:  6\n",
      "Введите вершину, в которую должно входить ребро:  7\n",
      "Введите еще команду:  show\n"
     ]
    },
    {
     "name": "stdout",
     "output_type": "stream",
     "text": [
      "1: 2\n",
      "2: \n",
      "3: \n",
      "4: 3, 5\n",
      "5: 6\n",
      "6: 7\n",
      "7: \n",
      "8: \n",
      "9: 2\n",
      "\n"
     ]
    },
    {
     "name": "stdin",
     "output_type": "stream",
     "text": [
      "Введите еще команду:  remove vertex\n",
      "Введите вершину, которую хотите удалить:  5\n"
     ]
    },
    {
     "name": "stdout",
     "output_type": "stream",
     "text": [
      "YOU LOSER\n",
      "А что вы собрались удалять в пустом графе (｡· v ·｡)?\n"
     ]
    },
    {
     "name": "stdin",
     "output_type": "stream",
     "text": [
      "Введите еще команду:  show\n"
     ]
    },
    {
     "name": "stdout",
     "output_type": "stream",
     "text": [
      "1: 2\n",
      "2: \n",
      "3: \n",
      "4: 3, 5\n",
      "6: 7\n",
      "7: \n",
      "8: \n",
      "9: 2\n",
      "\n"
     ]
    },
    {
     "name": "stdin",
     "output_type": "stream",
     "text": [
      "Введите еще команду:  is empty\n"
     ]
    },
    {
     "name": "stdout",
     "output_type": "stream",
     "text": [
      "Граф не пустой\n"
     ]
    },
    {
     "name": "stdin",
     "output_type": "stream",
     "text": [
      "Введите еще команду:  remove vertex\n",
      "Введите вершину, которую хотите удалить:  10\n"
     ]
    },
    {
     "name": "stdout",
     "output_type": "stream",
     "text": [
      "YOU LOSER\n",
      "Вы уверены что эти вершины есть в графе (｡· v ·｡)?\n"
     ]
    },
    {
     "name": "stdin",
     "output_type": "stream",
     "text": [
      "Введите еще команду:  show\n"
     ]
    },
    {
     "name": "stdout",
     "output_type": "stream",
     "text": [
      "1: 2\n",
      "2: \n",
      "3: \n",
      "4: 3, 5\n",
      "6: 7\n",
      "7: \n",
      "8: \n",
      "9: 2\n",
      "\n"
     ]
    },
    {
     "name": "stdin",
     "output_type": "stream",
     "text": [
      "Введите еще команду:  remove edge\n",
      "Введите вершину, из которой выходит ребро:  1\n",
      "Введите вершину, в которую входит ребро:  10\n"
     ]
    },
    {
     "name": "stdout",
     "output_type": "stream",
     "text": [
      "YOU LOSER\n",
      "Вы уверены что это ребро есть в графе (｡· v ·｡)?\n"
     ]
    },
    {
     "name": "stdin",
     "output_type": "stream",
     "text": [
      "Введите еще команду:  remove edge\n",
      "Введите вершину, из которой выходит ребро:  1\n",
      "Введите вершину, в которую входит ребро:  2\n"
     ]
    },
    {
     "name": "stdout",
     "output_type": "stream",
     "text": [
      "YOU LOSER\n",
      "А что вы собрались удалять в пустом графе (｡· v ·｡)?\n"
     ]
    },
    {
     "name": "stdin",
     "output_type": "stream",
     "text": [
      "Введите еще команду:  show\n"
     ]
    },
    {
     "name": "stdout",
     "output_type": "stream",
     "text": [
      "1: 2\n",
      "2: \n",
      "3: \n",
      "4: 3, 5\n",
      "6: 7\n",
      "7: \n",
      "8: \n",
      "9: 2\n",
      "\n"
     ]
    },
    {
     "name": "stdin",
     "output_type": "stream",
     "text": [
      "Введите еще команду:  stop\n"
     ]
    }
   ],
   "source": [
    "class LoserError(Exception):\n",
    "    def __init__(self, *args):\n",
    "        if args:\n",
    "            self.message = args[0]\n",
    "        else:\n",
    "            self.message = None\n",
    "\n",
    "    def __str__(self):\n",
    "        if self.message:\n",
    "            return f'LoserError: {self.message}'\n",
    "        else:\n",
    "            return 'YOU LOSER'\n",
    "\n",
    "class DirectedGraph:\n",
    "    def __init__(self):\n",
    "        self.vertices = {}\n",
    "\n",
    "    def __str__(self):\n",
    "        if self.is_empty():\n",
    "            text = \"The graph is empty: None\"\n",
    "            return text\n",
    "        else:\n",
    "            for vertex in self.vertices:\n",
    "                print(f\"{vertex}: {', '.join(map(str, self.vertices[vertex]))}\")\n",
    "            return \"\"\n",
    "\n",
    "    def is_empty(self):\n",
    "        if self.vertices == {}:\n",
    "            return True\n",
    "        else:\n",
    "            return False\n",
    "\n",
    "    def add_vertex(self, vertex):\n",
    "        if vertex not in self.vertices:\n",
    "            self.vertices[vertex] = []\n",
    "        else:\n",
    "            raise LoserError()\n",
    "\n",
    "    def add_edge(self, first, second):\n",
    "        if first in self.vertices and second in self.vertices:\n",
    "            self.vertices[first].append(second)\n",
    "        else:\n",
    "            raise LoserError()\n",
    "\n",
    "    def remove_vertex(self, vertex):\n",
    "        if self.is_empty():\n",
    "            raise TypeError(\"empty\")\n",
    "        if vertex in self.vertices:\n",
    "            del self.vertices[vertex]\n",
    "            for i in self.vertices:\n",
    "                for j in self.vertices[i]:\n",
    "                    if vertex == j:\n",
    "                        deleted = self.vertices[i].pop(vertex)\n",
    "        else:\n",
    "            raise LoserError()\n",
    "\n",
    "    def remove_edge(self, first, second):\n",
    "        if self.is_empty():\n",
    "            raise TypeError(\"empty\")\n",
    "        if first in self.vertices and second in self.vertices:\n",
    "            for i in self.vertices[first]:\n",
    "                if i == second:\n",
    "                    deleted = self.vertices[first].pop(i)\n",
    "        else:\n",
    "            raise LoserError()\n",
    "\n",
    "    def clear(self):\n",
    "        self.vertices = {}\n",
    "\n",
    "class UndirectedGraph:\n",
    "    def __init__(self):\n",
    "        self.vertices = {}\n",
    "\n",
    "    def __str__(self):\n",
    "        if self.is_empty():\n",
    "            text = \"The graph is empty: None\"\n",
    "            return text\n",
    "        else:\n",
    "            for vertex in self.vertices:\n",
    "                print(f\"{vertex}: {', '.join(map(str, self.vertices[vertex]))}\")\n",
    "            return \"\"\n",
    "\n",
    "    def is_empty(self):\n",
    "        if self.vertices == {}:\n",
    "            return True\n",
    "        else:\n",
    "            return False\n",
    "\n",
    "    def add_vertex(self, vertex):\n",
    "        if vertex not in self.vertices:\n",
    "            self.vertices[vertex] = []\n",
    "        else:\n",
    "            raise LoserError()\n",
    "\n",
    "    def add_edge(self, first, second):\n",
    "        if first in self.vertices and second in self.vertices:\n",
    "            self.vertices[first].append(second)\n",
    "            self.vertices[second].append(first)\n",
    "        else:\n",
    "            raise LoserError()\n",
    "\n",
    "    def remove_vertex(self, vertex):\n",
    "        if self.is_empty():\n",
    "            raise TypeError(\"empty\")\n",
    "        if vertex in self.vertices:\n",
    "            del self.vertices[vertex]\n",
    "            for i in self.vertices:\n",
    "                for j in self.vertices[i]:\n",
    "                    if vertex == j:\n",
    "                        deleted = self.vertices[i].pop(vertex)\n",
    "        else:\n",
    "            raise LoserError()\n",
    "\n",
    "    def remove_edge(self, first, second):\n",
    "        if self.is_empty():\n",
    "            raise TypeError(\"empty\")\n",
    "        if first in self.vertices and second in self.vertices:\n",
    "            for i in self.vertices[first]:\n",
    "                if i == second:\n",
    "                    deleted = self.vertices[first].pop(i)\n",
    "            for i in self.vertices[second]:\n",
    "                if i == first:\n",
    "                    deleted = self.vertices[second].pop(i)\n",
    "        else:\n",
    "            raise LoserError()\n",
    "\n",
    "    def clear(self):\n",
    "        self.vertices = {}\n",
    "\n",
    "# Взаимодействие с пользователем\n",
    "graph = input(\"Добро пожаловать!\\nЕсли вы хотите работать с ориентированным графом: введите Directed, если же с неориентированным: введите Undirected\\n\")\n",
    "flag = True\n",
    "while True:\n",
    "    if flag == False:\n",
    "        break\n",
    "    if graph.lower() == \"directed\":\n",
    "        mygraph = DirectedGraph()\n",
    "        print(\"Вы создали ориентированный граф\")\n",
    "        x = input(\"Добро пожаловать!\\nЕсли вы хотите вывести набор команд: введите Menu\\nЕсли вы хотите посмотреть граф: введите Show\\nЕсли вы хотите проверить пустой ли граф: введите Is Empty\\nЕсли вы хотите добавить вершину в граф: введите Add Vertex\\nЕсли вы хотите добавить ребро в граф: введите Add Edge\\nЕсли вы хотите удалить вершину из графа: введите Remove Vertex\\nЕсли вы хотите удалить ребро из графа: введите Remove Edge\\nЕсли вы хотите очистить граф: введите Clear\\nЕсли вы хотите закончить: введите Stop\\n\")\n",
    "        while True:\n",
    "            x = x.lower()\n",
    "            match x:\n",
    "                case \"menu\":\n",
    "                    print(\"Если вы хотите вывести набор команд: введите Menu\\nЕсли вы хотите посмотреть граф: введите Show\\nЕсли вы хотите проверить пустое ли граф: введите Is Empty\\nЕсли вы хотите добавить элементы в граф: введите Add\\nЕсли вы хотите обойти граф: введите Traversal\\nЕсли вы хотите узнать распоожение элемента в графе: введите Find Item\\nЕсли вы хотите удалить элементы из графа: введите Remove\\nЕсли вы хотите узнать глубину графа: введите Depth\\nЕсли вы хотите очистить граф: введите Clear\\nЕсли вы хотите найти произведение элементов всех четных уровней: введите Product Even Levels\\nЕсли вы хотите закончить: введите Stop\\n\")\n",
    "                case \"show\":\n",
    "                    print(mygraph)\n",
    "                case \"is empty\":\n",
    "                    if mygraph.is_empty():\n",
    "                        print(\"Граф пустой\")\n",
    "                    else:\n",
    "                        print(\"Граф не пустой\")\n",
    "                case \"add vertex\":\n",
    "                    message = input(\"Если вы хотите добавить несколько вершин: введите Fill, если же одну: введите Add\\n\")\n",
    "                    if not message.isalpha():\n",
    "                        print(\"YOU LOSER\")\n",
    "                        print(\"Надо было ввести команду :З\")\n",
    "                    else:\n",
    "                        if message == \"fill\":\n",
    "                            length = input(\"Введите количество вершин которое хотите добавить: \")\n",
    "                            if not length.isdigit():\n",
    "                                print(\"YOU LOSER\")\n",
    "                                print(\"Надо было ввести число :З\")\n",
    "                            else:\n",
    "                                print(\"Если вдруг вы устанете заполнять граф и захотите прервать процесс: введите ~I'm LoSeR~\")\n",
    "                                count_elements = 0\n",
    "                                f1 = True\n",
    "                                for i in range(0, int(length)):\n",
    "                                    if not f1:\n",
    "                                        break\n",
    "                                    item = input(\"Введите вершину: \")\n",
    "                                    if item == \"~I'm LoSeR~\":\n",
    "                                        while True:\n",
    "                                            exit = input(\"Если вы хотите закончить добавление вершин: введите Break, если добавить вершину ~I'm LoSeR~: введите Add\\n\")\n",
    "                                            if not exit.isalpha():\n",
    "                                                print(\"YOU LOSER\")\n",
    "                                                print(\"Надо было ввести команду :З\")\n",
    "                                                print(\"Попробуйте еще раз\")\n",
    "                                            else:\n",
    "                                                exit = exit.lower() \n",
    "                                                if exit == \"break\":\n",
    "                                                    print(\"Вершины успешно добавлены, процесс прерван\")\n",
    "                                                    f1 = False\n",
    "                                                    break\n",
    "                                                elif exit == \"add\":\n",
    "                                                    try:\n",
    "                                                        mygraph.add_vertex(item)\n",
    "                                                    except LoserError as message:\n",
    "                                                        print(message)\n",
    "                                                        print(\"Такая вершина уже есть в графе\")\n",
    "                                                    count_elements += 1\n",
    "                                                    break\n",
    "                                                else:\n",
    "                                                    print(\"YOU LOSER\")\n",
    "                                                    print(\"Надо было ввести команду :З\")\n",
    "                                                    print(\"Попробуйте еще раз\")\n",
    "                                    else:\n",
    "                                        try:\n",
    "                                            mygraph.add_vertex(item)\n",
    "                                        except LoserError as message:\n",
    "                                            print(message)\n",
    "                                            print(\"Такой элемент уже есть в графе\")\n",
    "                                        count_elements += 1\n",
    "                                if count_elements == length:\n",
    "                                    print(\"Вершины успешно добалены\")\n",
    "                        elif message == \"add\":\n",
    "                            item = input(\"Введите вершину: \")\n",
    "                            f2 = True\n",
    "                            try:\n",
    "                                mygraph.add_vertex(item)\n",
    "                            except LoserError as message:\n",
    "                                f2 = False\n",
    "                                print(message)\n",
    "                                print(\"Такая вершина уже есть в графе\")\n",
    "                            if f2:\n",
    "                                print(\"Вершина успешно добавлена\")\n",
    "                        else:\n",
    "                            print(\"YOU LOSER\")\n",
    "                            print(\"Вы ввели неправильную команду :З\")\n",
    "                case \"add edge\":\n",
    "                    first = input(\"Введите вершину, из которой должно выходить ребро: \")\n",
    "                    second = input(\"Введите вершину, в которую должно входить ребро: \")\n",
    "                    try:\n",
    "                        mygraph.add_edge(first, second)\n",
    "                    except LoserError as message:\n",
    "                        print(message)\n",
    "                        print(\"Вы уверены что эти вершины есть в графе (｡· v ·｡)?\")\n",
    "                case \"remove vertex\":\n",
    "                    item = input(\"Введите вершину, которую хотите удалить: \")\n",
    "                    try:\n",
    "                        mygraph.remove_vertex(item)\n",
    "                        print(\"Вы удалили вершину\", item)\n",
    "                    except TypeError:\n",
    "                        print(\"YOU LOSER\")\n",
    "                        print(\"А что вы собрались удалять в пустом графе (｡· v ·｡)?\")\n",
    "                    except LoserError as message:\n",
    "                        print(message)\n",
    "                        print(\"Вы уверены что эти вершины есть в графе (｡· v ·｡)?\")\n",
    "                case \"remove edge\":\n",
    "                    first = input(\"Введите вершину, из которой выходит ребро: \")\n",
    "                    second = input(\"Введите вершину, в которую входит ребро: \")\n",
    "                    try:\n",
    "                        mygraph.remove_edge(first, second)\n",
    "                        print(\"Вы успешно удалили ребро\")\n",
    "                    except TypeError:\n",
    "                        print(\"YOU LOSER\")\n",
    "                        print(\"А что вы собрались удалять в пустом графе (｡· v ·｡)?\")\n",
    "                    except LoserError as message:\n",
    "                        print(message)\n",
    "                        print(\"Вы уверены что это ребро есть в графе (｡· v ·｡)?\")\n",
    "                \n",
    "                case \"clear\":\n",
    "                    try:\n",
    "                        mygraph.clear()\n",
    "                        print(\"Вы очистили граф, его элементы больше не доступны :(\")\n",
    "                    except TypeError:\n",
    "                        print(\"YOU LOSER\")\n",
    "                        print(\"Не стоит пытаться очистить пустое граф :З\")\n",
    "                case \"stop\":\n",
    "                    flag = False\n",
    "                    break\n",
    "                case _:\n",
    "                    print(\"Научись вводить команды правильно :З\")\n",
    "            x = input(\"Введите еще команду: \")\n",
    "    elif graph.lower() == \"undirected\":\n",
    "        mygraph = UndirectedGraph()\n",
    "        print(\"Вы создали неориентированный граф\")\n",
    "        x = input(\"Добро пожаловать!\\nЕсли вы хотите вывести набор команд: введите Menu\\nЕсли вы хотите посмотреть граф: введите Show\\nЕсли вы хотите проверить пустой ли граф: введите Is Empty\\nЕсли вы хотите добавить вершину в граф: введите Add Vertex\\nЕсли вы хотите удалить элементы из графа: введите Remove\\nЕсли вы хотите очистить граф: введите Clear\\nЕсли вы хотите закончить: введите Stop\\n\")\n",
    "        while True:\n",
    "            x = x.lower()\n",
    "            match x:\n",
    "                case \"menu\":\n",
    "                    print(\"Если вы хотите вывести набор команд: введите Menu\\nЕсли вы хотите посмотреть граф: введите Show\\nЕсли вы хотите проверить пустое ли граф: введите Is Empty\\nЕсли вы хотите добавить элементы в граф: введите Add\\nЕсли вы хотите обойти граф: введите Traversal\\nЕсли вы хотите узнать распоожение элемента в графе: введите Find Item\\nЕсли вы хотите удалить элементы из графа: введите Remove\\nЕсли вы хотите узнать глубину графа: введите Depth\\nЕсли вы хотите очистить граф: введите Clear\\nЕсли вы хотите найти произведение элементов всех четных уровней: введите Product Even Levels\\nЕсли вы хотите закончить: введите Stop\\n\")\n",
    "                case \"show\":\n",
    "                    print(mygraph)\n",
    "                case \"is empty\":\n",
    "                    if mygraph.is_empty():\n",
    "                        print(\"Граф пустой\")\n",
    "                    else:\n",
    "                        print(\"Граф не пустой\")\n",
    "    else:\n",
    "        graph = input(\"Попробуйте ввести что-то из предложенных вариантов :З\\n\")"
   ]
  },
  {
   "cell_type": "code",
   "execution_count": null,
   "id": "710303ce-7e58-48b5-b4b4-4a25e54e2c68",
   "metadata": {},
   "outputs": [],
   "source": []
  }
 ],
 "metadata": {
  "kernelspec": {
   "display_name": "Python 3 (ipykernel)",
   "language": "python",
   "name": "python3"
  },
  "language_info": {
   "codemirror_mode": {
    "name": "ipython",
    "version": 3
   },
   "file_extension": ".py",
   "mimetype": "text/x-python",
   "name": "python",
   "nbconvert_exporter": "python",
   "pygments_lexer": "ipython3",
   "version": "3.10.12"
  }
 },
 "nbformat": 4,
 "nbformat_minor": 5
}
