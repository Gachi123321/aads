{
 "cells": [
  {
   "cell_type": "markdown",
   "id": "0d129041-42e9-4b74-8b3b-ec6602752c7a",
   "metadata": {},
   "source": [
    "<h1><b><font color=42aaff>Федотов Андрей (Вариант 15)</font></b></h1>"
   ]
  },
  {
   "cell_type": "markdown",
   "id": "574a4b4f-6212-4914-b108-dd393c246127",
   "metadata": {},
   "source": [
    "---"
   ]
  },
  {
   "cell_type": "markdown",
   "id": "8325198a-21c7-4970-b92d-d1a76efd53fa",
   "metadata": {},
   "source": [
    "<h3>Объявление класса</h3>"
   ]
  },
  {
   "cell_type": "code",
   "execution_count": null,
   "id": "7b8227bc-0b11-4e38-9e4f-2980b1876cdf",
   "metadata": {},
   "outputs": [],
   "source": [
    "class Node:\n",
    "    def __init__(self, data):\n",
    "        self.data = data\n",
    "        self.next = None\n",
    "\n",
    "\n",
    "class LinkedList:\n",
    "    def __init__(self):\n",
    "        self.head = None"
   ]
  },
  {
   "cell_type": "markdown",
   "id": "8c456418-0aa8-4846-a14b-020084e29813",
   "metadata": {},
   "source": [
    "<h3>Вставка элемента в линейный однонаправленный список (в начало, середину, конец)</h3>"
   ]
  },
  {
   "cell_type": "code",
   "execution_count": null,
   "id": "78f0f590-29d5-43fc-99d4-b52fe72c9622",
   "metadata": {},
   "outputs": [],
   "source": [
    "# В начало\n",
    "    def push_front(self, data):\n",
    "        new_node = Node(data)\n",
    "        new_node.next = self.head\n",
    "        self.head = new_node\n",
    "\n",
    "# В середину (по индексу)\n",
    "    def insert(self, index, data):\n",
    "        if index < 0:\n",
    "            raise IndexError(\"Недопустимый индекс\")\n",
    "        if index == 0:\n",
    "            self.push_front(data)\n",
    "            return\n",
    "        new_node = Node(data)\n",
    "        current = self.head\n",
    "        for i in range(index - 1):\n",
    "            if current is None:\n",
    "                raise IndexError(\"Недопустимый индекс\")\n",
    "            current = current.next\n",
    "        if current is None:\n",
    "            raise IndexError(\"Недопустимый индекс\")\n",
    "        new_node.next = current.next\n",
    "        current.next = new_node\n",
    "\n",
    "# В конец\n",
    "    def push_back(self, data):\n",
    "        new_node = Node(data)\n",
    "        if not self.head:\n",
    "            self.head = new_node\n",
    "            return\n",
    "        current = self.head\n",
    "        while current.next:\n",
    "            current = current.next\n",
    "        current.next = new_node"
   ]
  },
  {
   "cell_type": "markdown",
   "id": "8f10ca98-3960-43f3-b8a7-3d2431fa7b2f",
   "metadata": {},
   "source": [
    "<h3>Просмотр линейного однонаправленного списка</h3>"
   ]
  },
  {
   "cell_type": "code",
   "execution_count": null,
   "id": "edcde42f-8af1-4de3-8620-dd00501e4f6f",
   "metadata": {},
   "outputs": [],
   "source": [
    "    def show(self):\n",
    "        current = self.head\n",
    "        elements = []\n",
    "        while current:\n",
    "            elements.append(str(current.data))\n",
    "            current = current.next\n",
    "        print(\"[\" + \", \".join(elements) + \"]\")"
   ]
  },
  {
   "cell_type": "markdown",
   "id": "0924f837-b756-4ff4-b65d-b41c1a21fd1e",
   "metadata": {},
   "source": [
    "<h3>Поиск элемента в линейном однонаправленном списке</h3>"
   ]
  },
  {
   "cell_type": "code",
   "execution_count": 6,
   "id": "caf7f0f2-752a-43f1-b101-697330b785bc",
   "metadata": {},
   "outputs": [],
   "source": [
    "    def get(self, index):\n",
    "        if index < 0:\n",
    "            raise IndexError(\"Недопустимый индекс\")\n",
    "        current = self.head\n",
    "        for i in range(index):\n",
    "            if current is None:\n",
    "                raise IndexError(\"Недопустимый индекс\")\n",
    "            current = current.next\n",
    "        if current is None:\n",
    "            raise IndexError(\"Недопустимый индекс\")\n",
    "        return current.data"
   ]
  },
  {
   "cell_type": "markdown",
   "id": "7fdda649-b608-40f6-8156-5e79d8512878",
   "metadata": {},
   "source": [
    "<h3>Удаление элемента из линейного однонаправленного списка (из начала, середины, конца)</h3>"
   ]
  },
  {
   "cell_type": "code",
   "execution_count": null,
   "id": "775edd90-2112-4127-9ecd-9e3432ae5b4d",
   "metadata": {},
   "outputs": [],
   "source": [
    "# Из начала\n",
    "    def pop_front(self):\n",
    "        if self.head:\n",
    "            self.head = self.head.next\n",
    "        else:\n",
    "            raise IndexError(\"Список пуст\")\n",
    "\n",
    "# Из середины (по индексу)\n",
    "    def delete(self, index):\n",
    "        if index < 0:\n",
    "            raise IndexError(\"Недопустимый индекс\")\n",
    "        if index == 0:\n",
    "            self.pop_front()\n",
    "            return\n",
    "        current = self.head\n",
    "        for i in range(index - 1):\n",
    "            if current is None:\n",
    "                raise IndexError(\"Недопустимый индекс\")\n",
    "            current = current.next\n",
    "        if current is None or current.next is None:\n",
    "            raise IndexError(\"Недопустимый индекс\")\n",
    "        current.next = current.next.next\n",
    "\n",
    "# Из конца\n",
    "    def pop_back(self):\n",
    "        if self.head:\n",
    "            if not self.head.next:\n",
    "                self.head = None\n",
    "                return\n",
    "            current = self.head\n",
    "            while current.next.next:\n",
    "                current = current.next\n",
    "            current.next = None\n",
    "        else:\n",
    "            raise IndexError(\"Список пуст\")"
   ]
  },
  {
   "cell_type": "markdown",
   "id": "c5f7d690-2a75-4f79-bb96-21c592bf4194",
   "metadata": {},
   "source": [
    "<h3>Реверс списка (переворачивание списка задом на перед)</h3>"
   ]
  },
  {
   "cell_type": "code",
   "execution_count": null,
   "id": "6e01666d-1c74-4a4a-bb6a-53f617a66bf7",
   "metadata": {},
   "outputs": [],
   "source": [
    "    def reverse(self):\n",
    "        prev = None\n",
    "        current = self.head\n",
    "        while current:\n",
    "            next_node = current.next\n",
    "            current.next = prev\n",
    "            prev = current\n",
    "            current = next_node\n",
    "        self.head = prev"
   ]
  },
  {
   "cell_type": "markdown",
   "id": "4301f0c4-9ae1-4d58-b420-d608d38f040f",
   "metadata": {},
   "source": [
    "---"
   ]
  },
  {
   "cell_type": "markdown",
   "id": "2a225156-fecf-4bf4-bef3-69fe950b886a",
   "metadata": {},
   "source": [
    "<h2><b>Индивидуальные задания</b></h2>"
   ]
  },
  {
   "cell_type": "markdown",
   "id": "3a8aff67-7578-4b2e-b7a4-f5948fe34fb1",
   "metadata": {},
   "source": [
    "<h3>Имеется список целых чисел. Удалить из него все четные числа.</h3>"
   ]
  },
  {
   "cell_type": "code",
   "execution_count": 3,
   "id": "4aae7fb4-e289-4372-bc82-3a35d04bfdae",
   "metadata": {},
   "outputs": [],
   "source": [
    "    def delete_even(self):\n",
    "        curr = self.head\n",
    "        i = 0\n",
    "        while curr:\n",
    "            if curr.data % 2 == 0:\n",
    "                self.delete(i)\n",
    "            else:\n",
    "                i += 1\n",
    "            curr = curr.next"
   ]
  },
  {
   "cell_type": "markdown",
   "id": "abbc77f8-c63a-4947-b6b0-e07374b04f96",
   "metadata": {},
   "source": [
    "<h3>Определение, сколько различных значений содержится в списке.</h3>"
   ]
  },
  {
   "cell_type": "code",
   "execution_count": 5,
   "id": "a9d3ba51-d349-497c-8a2f-d41b504e2218",
   "metadata": {},
   "outputs": [],
   "source": [
    "    def unique_count(self):\n",
    "        unique = []\n",
    "        curr = self.head\n",
    "        while curr:\n",
    "            if curr.data not in unique:\n",
    "                unique.append(curr.data)\n",
    "            curr = curr.next\n",
    "        return len(unique)"
   ]
  },
  {
   "cell_type": "markdown",
   "id": "271882af-8c77-4cf2-9a35-550b2155c12e",
   "metadata": {},
   "source": [
    "---"
   ]
  },
  {
   "cell_type": "markdown",
   "id": "7d646950-397f-4a3d-a03c-710266dc0d02",
   "metadata": {},
   "source": [
    "<h2><b>Контрольные вопросы</b></h2>"
   ]
  },
  {
   "cell_type": "markdown",
   "id": "4691e26b-b62a-4e44-8de1-d30f0f1bd7fc",
   "metadata": {},
   "source": [
    "1. **Динамическая структура данных** - это структура данных, которая позволяет изменять свой размер во время выполнения программы, то есть динамически выделять и освобождать память для элементов.\n",
    "\n",
    "2. **Список (List)** - это один из типов динамических структур данных, представляющий собой упорядоченный набор элементов, каждый из которых имеет свой индекс.\n",
    "\n",
    "3. **Виды списков**:\n",
    "\n",
    "    a. **Односвязный список** - это структура данных, где каждый элемент (узел) содержит данные и ссылку на следующий элемент в списке.\n",
    "\n",
    "    b. **Двусвязный список** - это структура данных, где каждый элемент (узел) содержит данные и ссылки на как предыдущий, так и следующий элемент в списке.\n",
    "\n",
    "\n",
    "\n",
    "4. **Основные операции над списком**: Вставка элемента, удаление элемента, поиск элемента, доступ к элементу по индексу.\n",
    "е5. .\n",
    "\n",
    "   \n",
    "5. **Особенности выполнения операций вставки и удаления элементов**:\n",
    "\n",
    "    a. *Вставка первого элемента*: Вставка элемента в начало списка обычно требует смещения всех существующих элементов на одну позицию вперед, что может потребовать $O(n)$ операций, где $n$ - количество элементов в списке.\n",
    "\n",
    "    b. *Вставка не первого элемента*: Вставка элемента в середину или конец списка может потребовать $O(1)$ операцию, если у вас есть прямой доступ к месту вставки, или $O(n)$ операций, если вам нужно сначала найти место для вставки.\n",
    "\n",
    "    c. *Удаление первого элемента*: Удаление первого элемента из списка также требует смещения остальных элементов на одну позицию назад и может потребовать $O(n)$ операций.\n",
    "\n",
    "    d. *Удаление не первого элемента*: Удаление элемента из середины или конца списка может потребовать $O(1)$ операцию, если у вас есть прямой доступ к элементу, или $O(n)$ операций, если вам нужно сначала найти элемент для удаления."
   ]
  }
 ],
 "metadata": {
  "kernelspec": {
   "display_name": "Python 3 (ipykernel)",
   "language": "python",
   "name": "python3"
  },
  "language_info": {
   "codemirror_mode": {
    "name": "ipython",
    "version": 3
   },
   "file_extension": ".py",
   "mimetype": "text/x-python",
   "name": "python",
   "nbconvert_exporter": "python",
   "pygments_lexer": "ipython3",
   "version": "3.11.2"
  }
 },
 "nbformat": 4,
 "nbformat_minor": 5
}
